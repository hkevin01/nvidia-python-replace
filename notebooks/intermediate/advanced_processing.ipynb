{
 "cells": [
  {
   "cell_type": "markdown",
   "id": "43c84137",
   "metadata": {},
   "source": [
    "# Advanced Data Processing with GPU Acceleration\n",
    "\n",
    "This notebook demonstrates more advanced data processing techniques using GPU acceleration with RAPIDS cuDF."
   ]
  },
  {
   "cell_type": "code",
   "execution_count": null,
   "id": "2eaa2070",
   "metadata": {},
   "outputs": [],
   "source": [
    "import cudf\n",
    "import numpy as np\n",
    "from time import time\n",
    "\n",
    "# Create a large dataset\n",
    "n_rows = 10_000_000\n",
    "data = {\n",
    "    'A': np.random.randn(n_rows),\n",
    "    'B': np.random.randn(n_rows),\n",
    "    'C': np.random.choice(['X', 'Y', 'Z'], n_rows),\n",
    "    'D': np.random.randint(1, 100, n_rows)\n",
    "}\n",
    "\n",
    "# Create cuDF DataFrame\n",
    "df_gpu = cudf.DataFrame(data)\n",
    "print(f\"Created DataFrame with {len(df_gpu):,} rows\")"
   ]
  },
  {
   "cell_type": "markdown",
   "id": "0cb006b2",
   "metadata": {},
   "source": [
    "## Advanced GroupBy Operations\n",
    "\n",
    "Let's explore some advanced groupby operations that demonstrate the power of GPU acceleration:"
   ]
  },
  {
   "cell_type": "code",
   "execution_count": null,
   "id": "4f21bcd9",
   "metadata": {},
   "outputs": [],
   "source": [
    "# Complex groupby with multiple aggregations\n",
    "start = time()\n",
    "result = df_gpu.groupby('C').agg({\n",
    "    'A': ['mean', 'std', 'min', 'max'],\n",
    "    'B': ['sum', 'count'],\n",
    "    'D': ['nunique', lambda x: x.quantile(0.95)]\n",
    "}).reset_index()\n",
    "\n",
    "print(f\"Complex groupby operation completed in {time() - start:.2f} seconds\")\n",
    "print(\"\\nResults:\")\n",
    "print(result)"
   ]
  },
  {
   "cell_type": "markdown",
   "id": "7b95a772",
   "metadata": {},
   "source": [
    "## Window Functions\n",
    "\n",
    "cuDF supports SQL-style window functions that can be incredibly powerful for time series analysis and other advanced operations:"
   ]
  },
  {
   "cell_type": "code",
   "execution_count": null,
   "id": "9481b42e",
   "metadata": {},
   "outputs": [],
   "source": [
    "# Sort by A for window operations\n",
    "df_gpu = df_gpu.sort_values('A')\n",
    "\n",
    "# Calculate rolling mean with a window of 1000 rows\n",
    "start = time()\n",
    "df_gpu['A_rolling_mean'] = df_gpu['A'].rolling(window=1000).mean()\n",
    "\n",
    "# Calculate cumulative sum within each group\n",
    "df_gpu['B_cumsum'] = df_gpu.groupby('C')['B'].transform('cumsum')\n",
    "\n",
    "# Calculate percent rank of D within each group\n",
    "df_gpu['D_pctrank'] = df_gpu.groupby('C')['D'].transform(\n",
    "    lambda x: (x.rank() - 1) / (len(x) - 1)\n",
    ")\n",
    "\n",
    "print(f\"Window operations completed in {time() - start:.2f} seconds\")\n",
    "print(\"\\nSample results:\")\n",
    "print(df_gpu.head())"
   ]
  },
  {
   "cell_type": "markdown",
   "id": "c2b7978f",
   "metadata": {},
   "source": [
    "## Advanced Joins and Merges\n",
    "\n",
    "GPU-accelerated joins can be extremely fast, especially for large datasets:"
   ]
  },
  {
   "cell_type": "code",
   "execution_count": null,
   "id": "4b8027f1",
   "metadata": {},
   "outputs": [],
   "source": [
    "# Create a second DataFrame for joining\n",
    "lookup_data = {\n",
    "    'C': ['X', 'Y', 'Z'],\n",
    "    'description': ['Group X', 'Group Y', 'Group Z'],\n",
    "    'multiplier': [1.0, 1.5, 2.0]\n",
    "}\n",
    "lookup_df = cudf.DataFrame(lookup_data)\n",
    "\n",
    "# Perform a left join\n",
    "start = time()\n",
    "enriched_df = df_gpu.merge(\n",
    "    lookup_df,\n",
    "    on='C',\n",
    "    how='left'\n",
    ")\n",
    "\n",
    "# Calculate new values using joined data\n",
    "enriched_df['weighted_value'] = enriched_df['A'] * enriched_df['multiplier']\n",
    "\n",
    "print(f\"Join and calculation completed in {time() - start:.2f} seconds\")\n",
    "print(\"\\nSample results:\")\n",
    "print(enriched_df.head())"
   ]
  },
  {
   "cell_type": "markdown",
   "id": "ebbbbbf3",
   "metadata": {},
   "source": [
    "## Conclusion\n",
    "\n",
    "In this notebook, we've explored several advanced data processing techniques using GPU acceleration with RAPIDS cuDF:\n",
    "\n",
    "1. Complex groupby operations with multiple aggregations\n",
    "2. Window functions including rolling statistics and group transforms\n",
    "3. High-performance joins with large datasets\n",
    "\n",
    "These operations can be orders of magnitude faster than traditional CPU-based processing, especially with large datasets."
   ]
  }
 ],
 "metadata": {
  "language_info": {
   "name": "python"
  }
 },
 "nbformat": 4,
 "nbformat_minor": 5
}
