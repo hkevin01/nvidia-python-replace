{
 "cells": [
  {
   "cell_type": "markdown",
   "id": "995368d2",
   "metadata": {},
   "source": [
    "# GPU-Accelerated Data Visualization\n",
    "\n",
    "This notebook demonstrates advanced data visualization techniques using GPU acceleration with RAPIDS cuDF and cuxfilter."
   ]
  },
  {
   "cell_type": "code",
   "execution_count": null,
   "id": "7868d4ba",
   "metadata": {},
   "outputs": [],
   "source": [
    "import cudf\n",
    "import numpy as np\n",
    "import cuxfilter\n",
    "from bokeh.sampledata.iris import flowers\n",
    "\n",
    "# Convert the iris dataset to cuDF\n",
    "df_gpu = cudf.DataFrame(flowers)\n",
    "print(f\"Loaded iris dataset with {len(df_gpu)} rows\")"
   ]
  },
  {
   "cell_type": "markdown",
   "id": "bb9ba17b",
   "metadata": {},
   "source": [
    "## Creating an Interactive Dashboard\n",
    "\n",
    "We'll create an interactive dashboard using cuxfilter that allows us to explore relationships in the iris dataset:"
   ]
  },
  {
   "cell_type": "code",
   "execution_count": null,
   "id": "a43c4fcb",
   "metadata": {},
   "outputs": [],
   "source": [
    "# Create a dashboard\n",
    "dashboard = cuxfilter.DataFrame.from_dataframe(df_gpu)\n",
    "\n",
    "# Create charts\n",
    "scatter = dashboard.plot.scatter(\n",
    "    'sepal length',\n",
    "    'sepal width',\n",
    "    'scatter_chart',\n",
    "    color_column='species'\n",
    ")\n",
    "\n",
    "hist1 = dashboard.plot.hist(\n",
    "    'petal length',\n",
    "    'hist_chart1',\n",
    "    bins=20\n",
    ")\n",
    "\n",
    "hist2 = dashboard.plot.hist(\n",
    "    'petal width',\n",
    "    'hist_chart2',\n",
    "    bins=20\n",
    ")\n",
    "\n",
    "# Link the charts together\n",
    "dashboard.dashboard = [\n",
    "    [scatter],\n",
    "    [hist1, hist2]\n",
    "]\n",
    "\n",
    "# Display the dashboard\n",
    "dashboard.show()"
   ]
  },
  {
   "cell_type": "markdown",
   "id": "18125dac",
   "metadata": {},
   "source": [
    "## Advanced Visualizations\n",
    "\n",
    "Let's create some more sophisticated visualizations using GPU-accelerated computations:"
   ]
  },
  {
   "cell_type": "code",
   "execution_count": null,
   "id": "5eee37af",
   "metadata": {},
   "outputs": [],
   "source": [
    "# Create a heatmap\n",
    "heatmap = dashboard.plot.heatmap(\n",
    "    'sepal length',\n",
    "    'sepal width',\n",
    "    'heatmap_chart',\n",
    "    aggregation_fn='count'\n",
    ")\n",
    "\n",
    "# Create a line plot with confidence interval\n",
    "line = dashboard.plot.line(\n",
    "    'sepal length',\n",
    "    'petal length',\n",
    "    'line_chart',\n",
    "    add_area=True  # Adds confidence interval\n",
    ")\n",
    "\n",
    "# Update the dashboard\n",
    "dashboard.dashboard = [\n",
    "    [scatter, heatmap],\n",
    "    [line]\n",
    "]\n",
    "\n",
    "# Display the updated dashboard\n",
    "dashboard.show()"
   ]
  },
  {
   "cell_type": "markdown",
   "id": "aa4a47dc",
   "metadata": {},
   "source": [
    "## Conclusion\n",
    "\n",
    "In this notebook, we've explored advanced data visualization techniques using GPU acceleration:\n",
    "\n",
    "1. Interactive dashboards with cuxfilter\n",
    "2. Multi-chart layouts and linked views\n",
    "3. Advanced plot types including heatmaps and confidence intervals\n",
    "\n",
    "These visualizations leverage GPU acceleration for both computation and rendering, providing smooth interactivity even with large datasets."
   ]
  }
 ],
 "metadata": {
  "language_info": {
   "name": "python"
  }
 },
 "nbformat": 4,
 "nbformat_minor": 5
}
